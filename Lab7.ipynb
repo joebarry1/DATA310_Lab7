{
 "cells": [
  {
   "cell_type": "markdown",
   "id": "9a0e3f6b-6c98-44b0-ab13-29b18122d09d",
   "metadata": {},
   "source": [
    "# Lab 7"
   ]
  },
  {
   "cell_type": "markdown",
   "id": "6901776d-580b-4dd8-a24f-07a865944a47",
   "metadata": {},
   "source": [
    "## Q1"
   ]
  },
  {
   "cell_type": "code",
   "execution_count": 2,
   "id": "687745f8-b478-46dc-9292-a875610b461d",
   "metadata": {},
   "outputs": [],
   "source": [
    "import numpy as np\n",
    "import pandas as pd\n",
    "from sklearn.datasets import load_diabetes\n",
    "from sklearn.ensemble import RandomForestRegressor as RFR\n",
    "import matplotlib.pyplot as plt"
   ]
  },
  {
   "cell_type": "code",
   "execution_count": 3,
   "id": "1f9ca049-323e-4088-a5c0-ea74606cbcbb",
   "metadata": {},
   "outputs": [],
   "source": [
    "#Code provided\n",
    "columns = 'age gender bmi map tc ldl hdl tch ltg glu'.split()\n",
    "diabetes = load_diabetes() \n",
    "df = pd.DataFrame(diabetes.data, columns=columns)\n",
    "y = diabetes.target "
   ]
  },
  {
   "cell_type": "markdown",
   "id": "6e7791d6-36bd-4345-b9a7-4dcea954f92d",
   "metadata": {},
   "source": [
    "Now we will fit the random forest model and plot the feature importances."
   ]
  },
  {
   "cell_type": "code",
   "execution_count": 4,
   "id": "8d961064-a9b2-45da-9ee7-8c04e4ab9734",
   "metadata": {},
   "outputs": [
    {
     "data": {
      "text/plain": [
       "RandomForestRegressor(max_depth=10, n_estimators=1000, random_state=310)"
      ]
     },
     "execution_count": 4,
     "metadata": {},
     "output_type": "execute_result"
    }
   ],
   "source": [
    "model = RFR(random_state = 310, max_depth = 10, n_estimators = 1000)\n",
    "df = pd.get_dummies(df)\n",
    "model.fit(df,y)"
   ]
  },
  {
   "cell_type": "code",
   "execution_count": 5,
   "id": "9890dc6d-c15a-45a2-ac60-3c674b11a098",
   "metadata": {},
   "outputs": [
    {
     "data": {
      "image/png": "[encoded data removed]",
      "text/plain": [
       "<Figure size 432x288 with 1 Axes>"
      ]
     },
     "metadata": {
      "needs_background": "light"
     },
     "output_type": "display_data"
    }
   ],
   "source": [
    "features = df.columns\n",
    "importances = model.feature_importances_\n",
    "indices = np.argsort(importances)[-3:]  # top 3 features\n",
    "plt.title('Feature Importances')\n",
    "plt.barh(range(len(indices)), importances[indices], color='b', align='center')\n",
    "plt.yticks(range(len(indices)), [features[i] for i in indices])\n",
    "plt.xlabel('Relative Importance')\n",
    "plt.show()"
   ]
  },
  {
   "cell_type": "markdown",
   "id": "e802ad8c-b0d1-4fd0-bb57-35daf7e34c0f",
   "metadata": {},
   "source": [
    "Our top 3 features are ltg, bmi, and map."
   ]
  },
  {
   "cell_type": "markdown",
   "id": "c8d26628-b6c2-43c4-9584-ef945dd397a6",
   "metadata": {},
   "source": [
    "## Q2"
   ]
  },
  {
   "cell_type": "markdown",
   "id": "f7dc2ce1-bc00-43a6-b27d-11891a8dc292",
   "metadata": {},
   "source": [
    "First we will reset from using dummy variables."
   ]
  },
  {
   "cell_type": "code",
   "execution_count": 6,
   "id": "c9d2a54b-152b-4bad-b7a2-d752e205208b",
   "metadata": {},
   "outputs": [],
   "source": [
    "df = pd.DataFrame(diabetes.data, columns=columns)"
   ]
  },
  {
   "cell_type": "markdown",
   "id": "6688ee44-15a2-4447-b3c6-92c543fd7f3d",
   "metadata": {},
   "source": [
    "This is the stewise regression function we had in class."
   ]
  },
  {
   "cell_type": "code",
   "execution_count": 7,
   "id": "424d55cc-cc54-4c96-8e93-f6908ff56e2c",
   "metadata": {},
   "outputs": [],
   "source": [
    "# Implementation of stepwise regression\n",
    "def stepwise_selection(X, y, \n",
    "                       initial_list=[], \n",
    "                       threshold_in=0.01, \n",
    "                       threshold_out = 0.05, \n",
    "                       verbose=True):\n",
    "    \"\"\" Perform a forward-backward feature selection \n",
    "    based on p-value from statsmodels.api.OLS\n",
    "    Arguments:\n",
    "        X - pandas.DataFrame with candidate features\n",
    "        y - list-like with the target\n",
    "        initial_list - list of features to start with (column names of X)\n",
    "        threshold_in - include a feature if its p-value < threshold_in\n",
    "        threshold_out - exclude a feature if its p-value > threshold_out\n",
    "        verbose - whether to print the sequence of inclusions and exclusions\n",
    "    Returns: list of selected features \n",
    "    Always set threshold_in < threshold_out to avoid infinite looping.\n",
    "    See https://en.wikipedia.org/wiki/Stepwise_regression for the details \"\"\"\n",
    "    #import necessary for the function\n",
    "    import statsmodels.api as sm\n",
    "    included = list(initial_list)\n",
    "    while True:\n",
    "        changed=False\n",
    "        # forward step\n",
    "        excluded = list(set(X.columns)-set(included))\n",
    "        new_pval = pd.Series(index=excluded)\n",
    "        for new_column in excluded:\n",
    "            model = sm.OLS(y, sm.add_constant(pd.DataFrame(X[included+[new_column]]))).fit()\n",
    "            new_pval[new_column] = model.pvalues[new_column]\n",
    "        best_pval = new_pval.min()\n",
    "        if best_pval < threshold_in:\n",
    "            best_feature = new_pval.idxmin()\n",
    "            included.append(best_feature)\n",
    "            changed=True\n",
    "            if verbose:\n",
    "                print('Add  {:30} with p-value {:.6}'.format(best_feature, best_pval))\n",
    "\n",
    "        # backward step\n",
    "        model = sm.OLS(y, sm.add_constant(pd.DataFrame(X[included]))).fit()\n",
    "        # use all coefs except intercept\n",
    "        pvalues = model.pvalues.iloc[1:]\n",
    "        worst_pval = pvalues.max() # null if pvalues is empty\n",
    "        if worst_pval > threshold_out:\n",
    "            changed=True\n",
    "            worst_feature = pvalues.idxmax()\n",
    "            included.remove(worst_feature)\n",
    "            if verbose:\n",
    "                print('Drop {:30} with p-value {:.6}'.format(worst_feature, worst_pval))\n",
    "        if not changed:\n",
    "            break\n",
    "    return included"
   ]
  },
  {
   "cell_type": "code",
   "execution_count": 8,
   "id": "68ff41d7-3867-4516-8288-735eeb3fa7e6",
   "metadata": {},
   "outputs": [
    {
     "name": "stdout",
     "output_type": "stream",
     "text": [
      "Add  bmi                            with p-value 3.46601e-42\n",
      "Add  ltg                            with p-value 3.03968e-20\n",
      "Add  map                            with p-value 3.74192e-05\n"
     ]
    },
    {
     "name": "stderr",
     "output_type": "stream",
     "text": [
      "<ipython-input-7-ee288d7d333a>:26: DeprecationWarning: The default dtype for empty Series will be 'object' instead of 'float64' in a future version. Specify a dtype explicitly to silence this warning.\n",
      "  new_pval = pd.Series(index=excluded)\n",
      "<ipython-input-7-ee288d7d333a>:26: DeprecationWarning: The default dtype for empty Series will be 'object' instead of 'float64' in a future version. Specify a dtype explicitly to silence this warning.\n",
      "  new_pval = pd.Series(index=excluded)\n",
      "<ipython-input-7-ee288d7d333a>:26: DeprecationWarning: The default dtype for empty Series will be 'object' instead of 'float64' in a future version. Specify a dtype explicitly to silence this warning.\n",
      "  new_pval = pd.Series(index=excluded)\n",
      "<ipython-input-7-ee288d7d333a>:26: DeprecationWarning: The default dtype for empty Series will be 'object' instead of 'float64' in a future version. Specify a dtype explicitly to silence this warning.\n",
      "  new_pval = pd.Series(index=excluded)\n"
     ]
    },
    {
     "data": {
      "text/plain": [
       "['bmi', 'ltg', 'map']"
      ]
     },
     "execution_count": 8,
     "metadata": {},
     "output_type": "execute_result"
    }
   ],
   "source": [
    "stepwise_selection(df, y, [], .001, .001)"
   ]
  },
  {
   "cell_type": "markdown",
   "id": "4894c215-9cbf-4e64-8be7-9e803e8f34f6",
   "metadata": {},
   "source": [
    "The remaining variables are bmi, ltg, and map."
   ]
  },
  {
   "cell_type": "markdown",
   "id": "96438b67-42eb-44e1-9be4-9338b9c1005f",
   "metadata": {},
   "source": [
    "## Q3"
   ]
  },
  {
   "cell_type": "code",
   "execution_count": 9,
   "id": "05251666-aa0a-41b2-a6af-eda2910519b9",
   "metadata": {},
   "outputs": [
    {
     "data": {
      "text/plain": [
       "ElasticNet(alpha=0.1)"
      ]
     },
     "execution_count": 9,
     "metadata": {},
     "output_type": "execute_result"
    }
   ],
   "source": [
    "# Scaling and elastic net imports\n",
    "from sklearn import linear_model as lm\n",
    "from sklearn.preprocessing import StandardScaler\n",
    "\n",
    "# Scaling and fitting the data\n",
    "scale = StandardScaler()\n",
    "dfs = scale.fit_transform(df)\n",
    "model = lm.ElasticNet(alpha=0.1,l1_ratio = 0.5)\n",
    "model.fit(dfs,y)"
   ]
  },
  {
   "cell_type": "markdown",
   "id": "6fae9d5e-46e6-44ac-9517-d256c63c485e",
   "metadata": {},
   "source": [
    "We can read the variables from the dataset directly to compare coefficients, as the order will be maintained."
   ]
  },
  {
   "cell_type": "code",
   "execution_count": 10,
   "id": "248c93d3-19ad-4bb5-b339-51b351d4b279",
   "metadata": {},
   "outputs": [
    {
     "data": {
      "text/plain": [
       "array([ -0.06450966, -10.44169752,  24.131291  ,  14.75251583,\n",
       "        -6.39435385,  -1.73433665,  -8.41018002,   5.20382877,\n",
       "        22.94137958,   3.72439119])"
      ]
     },
     "execution_count": 10,
     "metadata": {},
     "output_type": "execute_result"
    }
   ],
   "source": [
    "model.coef_"
   ]
  },
  {
   "cell_type": "markdown",
   "id": "d78bbaa0-9285-44a7-8d8c-a72876af5eee",
   "metadata": {},
   "source": [
    "The largest coefficents (in decreasing order) are 3, 9, and 4."
   ]
  },
  {
   "cell_type": "code",
   "execution_count": 11,
   "id": "3459f0b1-e2e7-47fa-85c6-8e11433e6061",
   "metadata": {},
   "outputs": [
    {
     "data": {
      "text/html": [
       "<div>\n",
       "<style scoped>\n",
       "    .dataframe tbody tr th:only-of-type {\n",
       "        vertical-align: middle;\n",
       "    }\n",
       "\n",
       "    .dataframe tbody tr th {\n",
       "        vertical-align: top;\n",
       "    }\n",
       "\n",
       "    .dataframe thead th {\n",
       "        text-align: right;\n",
       "    }\n",
       "</style>\n",
       "<table border=\"1\" class=\"dataframe\">\n",
       "  <thead>\n",
       "    <tr style=\"text-align: right;\">\n",
       "      <th></th>\n",
       "      <th>age</th>\n",
       "      <th>gender</th>\n",
       "      <th>bmi</th>\n",
       "      <th>map</th>\n",
       "      <th>tc</th>\n",
       "      <th>ldl</th>\n",
       "      <th>hdl</th>\n",
       "      <th>tch</th>\n",
       "      <th>ltg</th>\n",
       "      <th>glu</th>\n",
       "    </tr>\n",
       "  </thead>\n",
       "  <tbody>\n",
       "    <tr>\n",
       "      <th>0</th>\n",
       "      <td>0.038076</td>\n",
       "      <td>0.050680</td>\n",
       "      <td>0.061696</td>\n",
       "      <td>0.021872</td>\n",
       "      <td>-0.044223</td>\n",
       "      <td>-0.034821</td>\n",
       "      <td>-0.043401</td>\n",
       "      <td>-0.002592</td>\n",
       "      <td>0.019908</td>\n",
       "      <td>-0.017646</td>\n",
       "    </tr>\n",
       "    <tr>\n",
       "      <th>1</th>\n",
       "      <td>-0.001882</td>\n",
       "      <td>-0.044642</td>\n",
       "      <td>-0.051474</td>\n",
       "      <td>-0.026328</td>\n",
       "      <td>-0.008449</td>\n",
       "      <td>-0.019163</td>\n",
       "      <td>0.074412</td>\n",
       "      <td>-0.039493</td>\n",
       "      <td>-0.068330</td>\n",
       "      <td>-0.092204</td>\n",
       "    </tr>\n",
       "    <tr>\n",
       "      <th>2</th>\n",
       "      <td>0.085299</td>\n",
       "      <td>0.050680</td>\n",
       "      <td>0.044451</td>\n",
       "      <td>-0.005671</td>\n",
       "      <td>-0.045599</td>\n",
       "      <td>-0.034194</td>\n",
       "      <td>-0.032356</td>\n",
       "      <td>-0.002592</td>\n",
       "      <td>0.002864</td>\n",
       "      <td>-0.025930</td>\n",
       "    </tr>\n",
       "    <tr>\n",
       "      <th>3</th>\n",
       "      <td>-0.089063</td>\n",
       "      <td>-0.044642</td>\n",
       "      <td>-0.011595</td>\n",
       "      <td>-0.036656</td>\n",
       "      <td>0.012191</td>\n",
       "      <td>0.024991</td>\n",
       "      <td>-0.036038</td>\n",
       "      <td>0.034309</td>\n",
       "      <td>0.022692</td>\n",
       "      <td>-0.009362</td>\n",
       "    </tr>\n",
       "    <tr>\n",
       "      <th>4</th>\n",
       "      <td>0.005383</td>\n",
       "      <td>-0.044642</td>\n",
       "      <td>-0.036385</td>\n",
       "      <td>0.021872</td>\n",
       "      <td>0.003935</td>\n",
       "      <td>0.015596</td>\n",
       "      <td>0.008142</td>\n",
       "      <td>-0.002592</td>\n",
       "      <td>-0.031991</td>\n",
       "      <td>-0.046641</td>\n",
       "    </tr>\n",
       "    <tr>\n",
       "      <th>...</th>\n",
       "      <td>...</td>\n",
       "      <td>...</td>\n",
       "      <td>...</td>\n",
       "      <td>...</td>\n",
       "      <td>...</td>\n",
       "      <td>...</td>\n",
       "      <td>...</td>\n",
       "      <td>...</td>\n",
       "      <td>...</td>\n",
       "      <td>...</td>\n",
       "    </tr>\n",
       "    <tr>\n",
       "      <th>437</th>\n",
       "      <td>0.041708</td>\n",
       "      <td>0.050680</td>\n",
       "      <td>0.019662</td>\n",
       "      <td>0.059744</td>\n",
       "      <td>-0.005697</td>\n",
       "      <td>-0.002566</td>\n",
       "      <td>-0.028674</td>\n",
       "      <td>-0.002592</td>\n",
       "      <td>0.031193</td>\n",
       "      <td>0.007207</td>\n",
       "    </tr>\n",
       "    <tr>\n",
       "      <th>438</th>\n",
       "      <td>-0.005515</td>\n",
       "      <td>0.050680</td>\n",
       "      <td>-0.015906</td>\n",
       "      <td>-0.067642</td>\n",
       "      <td>0.049341</td>\n",
       "      <td>0.079165</td>\n",
       "      <td>-0.028674</td>\n",
       "      <td>0.034309</td>\n",
       "      <td>-0.018118</td>\n",
       "      <td>0.044485</td>\n",
       "    </tr>\n",
       "    <tr>\n",
       "      <th>439</th>\n",
       "      <td>0.041708</td>\n",
       "      <td>0.050680</td>\n",
       "      <td>-0.015906</td>\n",
       "      <td>0.017282</td>\n",
       "      <td>-0.037344</td>\n",
       "      <td>-0.013840</td>\n",
       "      <td>-0.024993</td>\n",
       "      <td>-0.011080</td>\n",
       "      <td>-0.046879</td>\n",
       "      <td>0.015491</td>\n",
       "    </tr>\n",
       "    <tr>\n",
       "      <th>440</th>\n",
       "      <td>-0.045472</td>\n",
       "      <td>-0.044642</td>\n",
       "      <td>0.039062</td>\n",
       "      <td>0.001215</td>\n",
       "      <td>0.016318</td>\n",
       "      <td>0.015283</td>\n",
       "      <td>-0.028674</td>\n",
       "      <td>0.026560</td>\n",
       "      <td>0.044528</td>\n",
       "      <td>-0.025930</td>\n",
       "    </tr>\n",
       "    <tr>\n",
       "      <th>441</th>\n",
       "      <td>-0.045472</td>\n",
       "      <td>-0.044642</td>\n",
       "      <td>-0.073030</td>\n",
       "      <td>-0.081414</td>\n",
       "      <td>0.083740</td>\n",
       "      <td>0.027809</td>\n",
       "      <td>0.173816</td>\n",
       "      <td>-0.039493</td>\n",
       "      <td>-0.004220</td>\n",
       "      <td>0.003064</td>\n",
       "    </tr>\n",
       "  </tbody>\n",
       "</table>\n",
       "<p>442 rows × 10 columns</p>\n",
       "</div>"
      ],
      "text/plain": [
       "          age    gender       bmi       map        tc       ldl       hdl  \\\n",
       "0    0.038076  0.050680  0.061696  0.021872 -0.044223 -0.034821 -0.043401   \n",
       "1   -0.001882 -0.044642 -0.051474 -0.026328 -0.008449 -0.019163  0.074412   \n",
       "2    0.085299  0.050680  0.044451 -0.005671 -0.045599 -0.034194 -0.032356   \n",
       "3   -0.089063 -0.044642 -0.011595 -0.036656  0.012191  0.024991 -0.036038   \n",
       "4    0.005383 -0.044642 -0.036385  0.021872  0.003935  0.015596  0.008142   \n",
       "..        ...       ...       ...       ...       ...       ...       ...   \n",
       "437  0.041708  0.050680  0.019662  0.059744 -0.005697 -0.002566 -0.028674   \n",
       "438 -0.005515  0.050680 -0.015906 -0.067642  0.049341  0.079165 -0.028674   \n",
       "439  0.041708  0.050680 -0.015906  0.017282 -0.037344 -0.013840 -0.024993   \n",
       "440 -0.045472 -0.044642  0.039062  0.001215  0.016318  0.015283 -0.028674   \n",
       "441 -0.045472 -0.044642 -0.073030 -0.081414  0.083740  0.027809  0.173816   \n",
       "\n",
       "          tch       ltg       glu  \n",
       "0   -0.002592  0.019908 -0.017646  \n",
       "1   -0.039493 -0.068330 -0.092204  \n",
       "2   -0.002592  0.002864 -0.025930  \n",
       "3    0.034309  0.022692 -0.009362  \n",
       "4   -0.002592 -0.031991 -0.046641  \n",
       "..        ...       ...       ...  \n",
       "437 -0.002592  0.031193  0.007207  \n",
       "438  0.034309 -0.018118  0.044485  \n",
       "439 -0.011080 -0.046879  0.015491  \n",
       "440  0.026560  0.044528 -0.025930  \n",
       "441 -0.039493 -0.004220  0.003064  \n",
       "\n",
       "[442 rows x 10 columns]"
      ]
     },
     "execution_count": 11,
     "metadata": {},
     "output_type": "execute_result"
    }
   ],
   "source": [
    "df"
   ]
  },
  {
   "cell_type": "markdown",
   "id": "4aa2eacb-be97-40a7-a3d0-691dc8e294c7",
   "metadata": {},
   "source": [
    "The correspending variables are bmi, ltg, and map."
   ]
  },
  {
   "cell_type": "markdown",
   "id": "2f9d10f5-79a1-4534-88ef-a8372abf1352",
   "metadata": {},
   "source": [
    "## Q4"
   ]
  },
  {
   "cell_type": "markdown",
   "id": "09ec775b-af0f-48c0-8090-30b2e8204299",
   "metadata": {},
   "source": [
    "Using k-fold cross validation can provide us with a metric for the effectiveness of a model at a certain hyperparameter levels, by giving an average test MSE. Comparing this metric at different hyperparameter levels can hint at an ideal value for that given model."
   ]
  },
  {
   "cell_type": "markdown",
   "id": "bfd50aae-55d0-4e51-8dc8-5d48a98493ed",
   "metadata": {},
   "source": [
    "## Q5"
   ]
  },
  {
   "cell_type": "code",
   "execution_count": 12,
   "id": "c1003611-aa9c-4bff-908d-247e38239d0a",
   "metadata": {},
   "outputs": [],
   "source": [
    "#First import the dataset and k-fold validation libraries\n",
    "from sklearn.datasets import load_breast_cancer as lbc\n",
    "from sklearn.model_selection import KFold\n",
    "\n",
    "data = lbc()\n",
    "X = pd.DataFrame(data = data.data, columns = data.feature_names)\n",
    "y = data.target\n",
    "X = X[['mean radius','mean texture']]"
   ]
  },
  {
   "cell_type": "code",
   "execution_count": 13,
   "id": "88799fbf-51db-40da-b33d-c1c26c789d75",
   "metadata": {},
   "outputs": [],
   "source": [
    "# This function is taken from work done in DATA 146; used to perform k-fold cross validation in one function\n",
    "def DoKFold(model,X,y,k,random_state=1693,scaler=None):\n",
    "    '''Function will perform K-fold validation and return a list of K training and testing scores, inclduing R^2 as well as MSE.\n",
    "    \n",
    "        Inputs:\n",
    "            model: An sklearn model with defined 'fit' and 'score' methods\n",
    "            X: An N by p array containing the features of the model.  The N Columns are features, and the p rows are observations.\n",
    "            y: An array of length N containing the target of the model\n",
    "            k: The number of folds to split the data into for K-fold validation\n",
    "            random_state: used when splitting the data into the K folds (default=146)\n",
    "            scaler: An sklearn feature scaler.  If none is passed, no feature scaling will be performed\n",
    "        Outputs:\n",
    "            train_scores: A list of length K containing the training scores\n",
    "            test_scores: A list of length K containing the testing scores\n",
    "            train_mse: A list of length K containing the MSE on training data\n",
    "            test_mse: A list of length K containing the MSE on testing data\n",
    "    '''\n",
    "    \n",
    "    from sklearn.model_selection import KFold\n",
    "    kf = KFold(n_splits=k,shuffle=True,random_state=random_state)\n",
    "    \n",
    "    train_scores=[]\n",
    "    test_scores=[]\n",
    "    train_mse=[]\n",
    "    test_mse=[]\n",
    "    \n",
    "    for idxTrain, idxTest in kf.split(X):\n",
    "        Xtrain = X.values[idxTrain]\n",
    "        Xtest = X.values[idxTest]\n",
    "        ytrain = y[idxTrain]\n",
    "        ytest = y[idxTest]\n",
    "        \n",
    "        if scaler != None:\n",
    "            Xtrain = scaler.fit_transform(Xtrain)\n",
    "            Xtest = scaler.transform(Xtest)\n",
    "        \n",
    "        model.fit(Xtrain,ytrain)\n",
    "        \n",
    "        train_scores.append(model.score(Xtrain,ytrain))\n",
    "        test_scores.append(model.score(Xtest,ytest))\n",
    "        \n",
    "        # Compute the mean squared errors\n",
    "        ytrain_pred = model.predict(Xtrain)\n",
    "        ytest_pred = model.predict(Xtest)\n",
    "        train_mse.append(np.mean((ytrain-ytrain_pred)**2))\n",
    "        test_mse.append(np.mean((ytest-ytest_pred)**2))\n",
    "        \n",
    "    return train_scores,test_scores,train_mse,test_mse"
   ]
  },
  {
   "cell_type": "code",
   "execution_count": 14,
   "id": "72b45b7e-4815-4b65-9a10-97848b5ef3cc",
   "metadata": {},
   "outputs": [],
   "source": [
    "from sklearn.tree import DecisionTreeRegressor as DTR\n",
    "leaf_range = np.arange(1, 25, 1)\n",
    "depth_range = np.arange(1, 100, 1)\n",
    "train = []\n",
    "test = []\n",
    "train_mse = []\n",
    "test_mse = []\n",
    "for i in depth_range:\n",
    "    dtr = DTR(max_depth = i, min_samples_leaf = 10, random_state = 1693) # 10 is arbitrary, seems appropriate\n",
    "    tr,te,msetr,msete = DoKFold(dtr, X, y, 10)\n",
    "    train.append(np.mean(tr))\n",
    "    test.append(np.mean(te))\n",
    "    train_mse.append(np.mean(msetr))\n",
    "    test_mse.append(np.mean(msete))"
   ]
  },
  {
   "cell_type": "code",
   "execution_count": 15,
   "id": "c33fa973-eb9f-473f-b7c5-4db9be631326",
   "metadata": {},
   "outputs": [
    {
     "data": {
      "image/png": "[encoded data removed]",
      "text/plain": [
       "<Figure size 432x288 with 1 Axes>"
      ]
     },
     "metadata": {
      "needs_background": "light"
     },
     "output_type": "display_data"
    }
   ],
   "source": [
    "plt.plot(depth_range,train_mse, '-xk',label = 'train')\n",
    "plt.plot(depth_range,test_mse,'-xr',label = 'test')\n",
    "plt.legend()\n",
    "plt.show()"
   ]
  },
  {
   "cell_type": "markdown",
   "id": "80157889-046d-4077-b64d-a962f078823f",
   "metadata": {},
   "source": [
    "The minimum seems to be in the first 10 values. We will check again in that range."
   ]
  },
  {
   "cell_type": "code",
   "execution_count": 16,
   "id": "c1b6695f-4cef-4ecc-88e9-ba3db8cd4b80",
   "metadata": {},
   "outputs": [],
   "source": [
    "leaf_range = np.arange(1, 25, 1)\n",
    "depth_range = np.arange(1, 10, 1)\n",
    "train = []\n",
    "test = []\n",
    "train_mse = []\n",
    "test_mse = []\n",
    "for i in depth_range:\n",
    "    dtr = DTR(max_depth = i, min_samples_leaf = 10, random_state = 1693) # 10 is arbitrary, seems appropriate\n",
    "    tr,te,msetr,msete = DoKFold(dtr, X, y, 10)\n",
    "    train.append(np.mean(tr))\n",
    "    test.append(np.mean(te))\n",
    "    train_mse.append(np.mean(msetr))\n",
    "    test_mse.append(np.mean(msete))"
   ]
  },
  {
   "cell_type": "code",
   "execution_count": 17,
   "id": "7d5efc69-acc8-4c3d-a026-e1e6b497c6ed",
   "metadata": {},
   "outputs": [
    {
     "data": {
      "image/png": "[encoded data removed]",
      "text/plain": [
       "<Figure size 432x288 with 1 Axes>"
      ]
     },
     "metadata": {
      "needs_background": "light"
     },
     "output_type": "display_data"
    }
   ],
   "source": [
    "plt.plot(depth_range,train_mse, '-xk',label = 'train')\n",
    "plt.plot(depth_range,test_mse,'-xr',label = 'test')\n",
    "plt.legend()\n",
    "plt.show()"
   ]
  },
  {
   "cell_type": "markdown",
   "id": "53d76492-c181-49e5-aa54-dedc4420d16e",
   "metadata": {},
   "source": [
    "The ideal depth seems to be 4. Now we will check minimum samples at this level."
   ]
  },
  {
   "cell_type": "code",
   "execution_count": 18,
   "id": "5e233fd3-78af-41da-81ad-61ba76a2ddc1",
   "metadata": {},
   "outputs": [],
   "source": [
    "leaf_range = np.arange(1, 25, 1)\n",
    "depth_range = np.arange(1, 10, 1)\n",
    "train = []\n",
    "test = []\n",
    "train_mse = []\n",
    "test_mse = []\n",
    "for i in leaf_range:\n",
    "    dtr = DTR(max_depth = 4, min_samples_leaf = i, random_state = 1693) # 4 from graph\n",
    "    tr,te,msetr,msete = DoKFold(dtr, X, y, 10)\n",
    "    train.append(np.mean(tr))\n",
    "    test.append(np.mean(te))\n",
    "    train_mse.append(np.mean(msetr))\n",
    "    test_mse.append(np.mean(msete))"
   ]
  },
  {
   "cell_type": "code",
   "execution_count": 19,
   "id": "af0b76ea-473d-436e-b9ab-71a71372b590",
   "metadata": {},
   "outputs": [
    {
     "data": {
      "image/png": "[encoded data removed]",
      "text/plain": [
       "<Figure size 432x288 with 1 Axes>"
      ]
     },
     "metadata": {
      "needs_background": "light"
     },
     "output_type": "display_data"
    }
   ],
   "source": [
    "plt.plot(leaf_range,train_mse, '-xk',label = 'train')\n",
    "plt.plot(leaf_range,test_mse,'-xr',label = 'test')\n",
    "plt.legend()\n",
    "plt.show()"
   ]
  },
  {
   "cell_type": "markdown",
   "id": "c4de46f1-374a-46ba-89d5-254f8f2a44f3",
   "metadata": {},
   "source": [
    "The minimum test MSE is somewhere past 12. While the absolute minimum is at 16, there is little variance once this number is sufficiently large. The answer (4, 19) is in this range, and is the most accurate answer."
   ]
  },
  {
   "cell_type": "markdown",
   "id": "0f4473d4-e434-44cd-a787-48527ed910e3",
   "metadata": {},
   "source": [
    "## Q6"
   ]
  },
  {
   "cell_type": "markdown",
   "id": "61de18fa-5b6d-4970-a7c0-c50776098796",
   "metadata": {},
   "source": [
    "From the last question, we can assume that the ideal decision tree has a max depth of 4 and a minimum samples per leaf of 19. Using these hyperparameters for our decision tree regressor, we can create a confusion matrix for each fold of our k-fold validation. By adding up the false negatives in each fold, we will have our total number of false negatives."
   ]
  },
  {
   "cell_type": "code",
   "execution_count": 24,
   "id": "d8480663-4df9-4df4-b0eb-98aadde9fce5",
   "metadata": {},
   "outputs": [],
   "source": [
    "from sklearn.metrics import confusion_matrix\n",
    "from sklearn.tree import DecisionTreeClassifier as DTC"
   ]
  },
  {
   "cell_type": "code",
   "execution_count": 27,
   "id": "aeeca957-e369-4a9a-bd0e-a4696ab1f786",
   "metadata": {},
   "outputs": [
    {
     "name": "stdout",
     "output_type": "stream",
     "text": [
      "    0   1\n",
      "0  16   0\n",
      "1   2  39\n",
      "    0   1\n",
      "0  19   7\n",
      "1   6  25\n",
      "    0   1\n",
      "0  17   1\n",
      "1   5  34\n",
      "    0   1\n",
      "0  12   2\n",
      "1   4  39\n",
      "    0   1\n",
      "0  24   4\n",
      "1   3  26\n",
      "    0   1\n",
      "0  19   2\n",
      "1   4  32\n",
      "    0   1\n",
      "0  16   2\n",
      "1   3  36\n",
      "    0   1\n",
      "0  23   1\n",
      "1   2  31\n",
      "    0   1\n",
      "0  22   2\n",
      "1   2  31\n",
      "    0   1\n",
      "0  18   5\n",
      "1   3  30\n"
     ]
    }
   ],
   "source": [
    "model = DTC(random_state = 12345, max_depth = 4, min_samples_leaf = 19)\n",
    "kf = KFold(n_splits=10, random_state=12345,shuffle=True)\n",
    "\n",
    "for train_index, test_index in kf.split(X):\n",
    "    X_train = X.values[train_index]\n",
    "    y_train = y[train_index]\n",
    "    X_test = X.values[test_index]\n",
    "    y_test = y[test_index]\n",
    "    model.fit(X_train, y_train)\n",
    "    y_pred = model.predict(X_test)\n",
    "    cm = confusion_matrix(y_test,y_pred)\n",
    "    print(pd.DataFrame(cm))"
   ]
  },
  {
   "cell_type": "markdown",
   "id": "cfa36c3d-5590-43bc-823b-34899fcf3cb3",
   "metadata": {},
   "source": [
    "A false negative is where the prediction is benign (1), but the actual case is malignant (0). These are stored in the bottom left of each matrix. Adding these up will give us the total false negatives."
   ]
  },
  {
   "cell_type": "code",
   "execution_count": 28,
   "id": "7a227c44-7ea8-43e3-8514-403141526926",
   "metadata": {},
   "outputs": [
    {
     "data": {
      "text/plain": [
       "34"
      ]
     },
     "execution_count": 28,
     "metadata": {},
     "output_type": "execute_result"
    }
   ],
   "source": [
    "sum_fn = 2 + 6 + 5 + 4 + 3 + 4 + 3 + 2 + 2 + 3\n",
    "sum_fn"
   ]
  },
  {
   "cell_type": "markdown",
   "id": "2e5f5204-1442-44de-9833-63fae8f9ccd8",
   "metadata": {},
   "source": [
    "Our sum is 34. The closest answer choice is 32."
   ]
  },
  {
   "cell_type": "markdown",
   "id": "12a66eee-62d7-445f-8836-5613ca5cd941",
   "metadata": {},
   "source": [
    "## Q7"
   ]
  },
  {
   "cell_type": "code",
   "execution_count": 30,
   "id": "4c14166b-786a-4a30-aa50-df4ee30a8b13",
   "metadata": {},
   "outputs": [],
   "source": [
    "# We can use largely the same code from Q5, but store the accuracy\n",
    "train = []\n",
    "test = []\n",
    "\n",
    "for i in depth_range:\n",
    "    dtr = DTR(max_depth = 4, min_samples_leaf = 19, random_state = 1693)\n",
    "    tr,te,msetr,msete = DoKFold(dtr, X, y, 10)\n",
    "    train.append(np.mean(tr))\n",
    "    test.append(np.mean(te))"
   ]
  },
  {
   "cell_type": "code",
   "execution_count": 31,
   "id": "61c02005-a308-4ffc-86d1-e9b72ee39fed",
   "metadata": {},
   "outputs": [
    {
     "data": {
      "text/plain": [
       "[0.6354045287111109,\n",
       " 0.6354045287111109,\n",
       " 0.6354045287111109,\n",
       " 0.6354045287111109,\n",
       " 0.6354045287111109,\n",
       " 0.6354045287111109,\n",
       " 0.6354045287111109,\n",
       " 0.6354045287111109,\n",
       " 0.6354045287111109]"
      ]
     },
     "execution_count": 31,
     "metadata": {},
     "output_type": "execute_result"
    }
   ],
   "source": [
    "test"
   ]
  },
  {
   "cell_type": "markdown",
   "id": "b63186d1-6c93-4e08-b277-0d04f18b348c",
   "metadata": {},
   "source": [
    "Our mean accuracy is 63.5%. This is closest to answer choice 70%."
   ]
  },
  {
   "cell_type": "markdown",
   "id": "e242011d-30c4-469e-9e04-322d09f05437",
   "metadata": {},
   "source": [
    "## Q8"
   ]
  },
  {
   "cell_type": "markdown",
   "id": "1769d137-75b7-4208-8fd4-2cb1e6fc3cec",
   "metadata": {},
   "source": [
    "This is the definition of a hyperparameter."
   ]
  },
  {
   "cell_type": "markdown",
   "id": "0ae5db49-5e0c-4273-bae4-94279d22d769",
   "metadata": {},
   "source": [
    "## Q9"
   ]
  },
  {
   "cell_type": "markdown",
   "id": "0d146854-8f10-4fb9-b103-c6271dd363c1",
   "metadata": {},
   "source": [
    "The decision to use regressors or classifiers is one example of a case where one must consider whether the data is discrete or continuous. While a linear model may work well for linear data, a decision tree may work best for non-linear data. Both answer choices influence what the most apropriate model is."
   ]
  },
  {
   "cell_type": "markdown",
   "id": "902731d4-a0d2-485a-a243-3366a72705cb",
   "metadata": {},
   "source": [
    "## Q10"
   ]
  },
  {
   "cell_type": "markdown",
   "id": "6d0ca907-3617-4403-ac87-61919caee515",
   "metadata": {},
   "source": [
    "As a rule of thumb, parsimonious models (those with fewer variables and/or inputs) are preferable over non-parsimonious models, as they are more intuitive and less prone to overfitting."
   ]
  },
  {
   "cell_type": "markdown",
   "id": "b6e88a83-32dc-4510-965e-c32be93edf09",
   "metadata": {},
   "source": [
    "## Q11"
   ]
  },
  {
   "cell_type": "markdown",
   "id": "84582f55-aefe-4d76-8e84-110d3f8660d7",
   "metadata": {},
   "source": [
    "This is the definition of PCA. It is used to preserve the variance of an input while reducing the number of variables (in most cases)."
   ]
  },
  {
   "cell_type": "markdown",
   "id": "50b64754-79bd-4d63-89ef-33a6219a44ad",
   "metadata": {},
   "source": [
    "## Q12"
   ]
  },
  {
   "cell_type": "code",
   "execution_count": 67,
   "id": "19fa486f-e16b-49ae-bbe4-4dc877bee616",
   "metadata": {},
   "outputs": [],
   "source": [
    "# We want to use all of the variables now\n",
    "data = lbc()\n",
    "X = pd.DataFrame(data = data.data, columns = data.feature_names)\n",
    "y = data.target\n",
    "# They have to be scaled\n",
    "Xs = scale.fit_transform(X)"
   ]
  },
  {
   "cell_type": "code",
   "execution_count": 68,
   "id": "e2d3ef39-029e-463b-bf25-99177375f38a",
   "metadata": {},
   "outputs": [],
   "source": [
    "from sklearn.decomposition import PCA"
   ]
  },
  {
   "cell_type": "code",
   "execution_count": 69,
   "id": "02951d29-7b04-4cd7-b36b-02afe4188a16",
   "metadata": {},
   "outputs": [
    {
     "data": {
      "text/plain": [
       "PCA(n_components=9)"
      ]
     },
     "execution_count": 69,
     "metadata": {},
     "output_type": "execute_result"
    }
   ],
   "source": [
    "pca = PCA(n_components = 9)\n",
    "pca.fit(Xs)"
   ]
  },
  {
   "cell_type": "code",
   "execution_count": 70,
   "id": "709dea95-b5f9-4d74-a177-cdd2f60f3657",
   "metadata": {},
   "outputs": [
    {
     "name": "stdout",
     "output_type": "stream",
     "text": [
      "     0    1\n",
      "0  201   11\n",
      "1   13  344\n"
     ]
    }
   ],
   "source": [
    "model = DTC(random_state = 1234, max_depth = 10, min_samples_leaf = 20)\n",
    "model.fit(Xs, y)\n",
    "y_pred = model.predict(Xs)\n",
    "cm = confusion_matrix(y, y_pred)\n",
    "print(pd.DataFrame(cm))"
   ]
  },
  {
   "cell_type": "markdown",
   "id": "2f739e91-3073-4e63-8e92-f6514524bcc2",
   "metadata": {},
   "source": [
    "True positives occur when both the real and predicted value is 0. There are 201 of these in the dataset. This is closest to answer choice 196."
   ]
  },
  {
   "cell_type": "code",
   "execution_count": null,
   "id": "5081db46-82db-41ee-8c65-2b2565188945",
   "metadata": {},
   "outputs": [],
   "source": []
  }
 ],
 "metadata": {
  "kernelspec": {
   "display_name": "Python 3",
   "language": "python",
   "name": "python3"
  },
  "language_info": {
   "codemirror_mode": {
    "name": "ipython",
    "version": 3
   },
   "file_extension": ".py",
   "mimetype": "text/x-python",
   "name": "python",
   "nbconvert_exporter": "python",
   "pygments_lexer": "ipython3",
   "version": "3.8.8"
  }
 },
 "nbformat": 4,
 "nbformat_minor": 5
}
